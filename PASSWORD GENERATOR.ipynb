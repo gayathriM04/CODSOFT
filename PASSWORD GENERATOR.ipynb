{
 "cells": [
  {
   "cell_type": "code",
   "execution_count": null,
   "id": "be8ef5d1",
   "metadata": {},
   "outputs": [],
   "source": [
    "import random\n",
    "import string"
   ]
  },
  {
   "cell_type": "code",
   "execution_count": null,
   "id": "955d2766",
   "metadata": {},
   "outputs": [],
   "source": [
    "def generatePassword(length):\n",
    "    \"\"\"\n",
    "    Generate a random password of a specified length.\n",
    "\n",
    "    Args:\n",
    "        length (int): The length of the password to be generated.\n",
    "\n",
    "    Returns:\n",
    "        str: A randomly generated password consisting of alphanumeric characters and punctuation.\n",
    "    \"\"\"\n",
    "    characters = string.ascii_letters + string.digits + string.punctuation\n",
    "    password = ''.join(random.choice(characters) for _ in range(length))\n",
    "    return password\n"
   ]
  },
  {
   "cell_type": "code",
   "execution_count": null,
   "id": "9da85ef0",
   "metadata": {},
   "outputs": [],
   "source": [
    "def main():\n",
    "    \"\"\"\n",
    "    Main function to generate a random password.\n",
    "\n",
    "    This function prompts the user to input the desired length of the password.\n",
    "    It then generates a random password of the specified length using the\n",
    "    generatePassword function and displays it to the user.\n",
    "    \"\"\"\n",
    "    print(\"Welcome To Password Generator\")\n",
    "\n",
    "    try:\n",
    "        length = int(input(\"Enter the desired length of the password: \"))\n",
    "    except ValueError:\n",
    "        print(\"Please enter a valid number.\")\n",
    "        return\n",
    "\n",
    "    if length <= 0:\n",
    "        print(\"\\nPassword length should be greater than 0.\")\n",
    "        return\n",
    "    else:\n",
    "        password = generatePassword(length)\n",
    "        print(f\"\\nGenerated Password: {password}\")\n",
    "\n",
    "    "
   ]
  },
  {
   "cell_type": "code",
   "execution_count": null,
   "id": "a68f71c7",
   "metadata": {},
   "outputs": [],
   "source": [
    "if __name__ == \"__main__\":\n",
    "    main()"
   ]
  },
  {
   "cell_type": "markdown",
   "id": "508189b4",
   "metadata": {},
   "source": [
    "## Getting Documentation"
   ]
  },
  {
   "cell_type": "code",
   "execution_count": null,
   "id": "8af4547f",
   "metadata": {},
   "outputs": [],
   "source": [
    "# Getting the docstring of the generatePassword method\n",
    "docstring = generatePassword.__doc__\n",
    "print(\"Documentation for generatePassword method:\")\n",
    "print(\"------------------------------------------\")\n",
    "print(docstring)"
   ]
  },
  {
   "cell_type": "code",
   "execution_count": null,
   "id": "8715a3c2",
   "metadata": {},
   "outputs": [],
   "source": [
    "# Getting the docstring of the main method\n",
    "docstring = main.__doc__\n",
    "print(\"Documentation for main method:\")\n",
    "print(\"------------------------------\")\n",
    "print(docstring)"
   ]
  },
  {
   "cell_type": "code",
   "execution_count": null,
   "id": "aa2bd495",
   "metadata": {},
   "outputs": [],
   "source": []
  }
 ],
 "metadata": {
  "kernelspec": {
   "display_name": "Python 3 (ipykernel)",
   "language": "python",
   "name": "python3"
  },
  "language_info": {
   "codemirror_mode": {
    "name": "ipython",
    "version": 3
   },
   "file_extension": ".py",
   "mimetype": "text/x-python",
   "name": "python",
   "nbconvert_exporter": "python",
   "pygments_lexer": "ipython3",
   "version": "3.9.13"
  }
 },
 "nbformat": 4,
 "nbformat_minor": 5
}
