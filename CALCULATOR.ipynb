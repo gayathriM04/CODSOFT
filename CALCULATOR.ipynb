{
 "cells": [
  {
   "cell_type": "markdown",
   "id": "544c2398",
   "metadata": {},
   "source": [
    "## TASK 2 - CALCULATOR\n",
    "\n",
    "Design a simple calculator with basic arithmetic operations.\n",
    "Prompt the user to input two numbers and an operation choice.\n",
    "Perform the calculation and display the result."
   ]
  },
  {
   "cell_type": "code",
   "execution_count": null,
   "id": "86c35727",
   "metadata": {},
   "outputs": [],
   "source": [
    "def mathematicalOperation(num_1, num_2, operation):\n",
    "    \"\"\"\n",
    "    Perform a mathematical operation on two numbers.\n",
    "\n",
    "    Args:\n",
    "        num_1 (float): The first number.\n",
    "        num_2 (float): The second number.\n",
    "        operation (str): The operation to be performed. Valid operations are '+', '-', '*', '/'.\n",
    "\n",
    "    Returns:\n",
    "        float or str: The result of the mathematical operation. If the operation is division\n",
    "        and the denominator is zero, returns \"Cannot divide by zero.\"\n",
    "    \"\"\"\n",
    "    if operation == '+': \n",
    "        result = num_1 + num_2\n",
    "    elif operation == '-': \n",
    "        result = num_1 - num_2\n",
    "    elif operation == '*': \n",
    "        result = num_1 * num_2\n",
    "    elif operation == '/':\n",
    "        try: \n",
    "            result = num_1 / num_2\n",
    "        except ZeroDivisionError:\n",
    "            result = \"Cannot divide by zero.\"  \n",
    "\n",
    "    return result\n"
   ]
  },
  {
   "cell_type": "code",
   "execution_count": null,
   "id": "6df410d1",
   "metadata": {},
   "outputs": [],
   "source": [
    "def calculator():\n",
    "    \"\"\"\n",
    "    A simple calculator program to perform basic arithmetic operations on two numbers.\n",
    "\n",
    "    This function prompts the user to input two numbers and choose an operation\n",
    "    (+, -, *, /). It then performs the selected operation using the\n",
    "    mathematicalOperation function and displays the result.\n",
    "    \"\"\"\n",
    "    # Display welcome message\n",
    "    print(\"Welcome to Simple Calculator\")\n",
    "\n",
    "    try:\n",
    "        num1 = float(input(\"Enter the first number: \"))\n",
    "        num2 = float(input(\"Enter the second number: \"))\n",
    "    except ValueError:\n",
    "        print(\"Invalid input. Please enter valid numbers.\")\n",
    "        return\n",
    "\n",
    "    operation = input(\"Choose an operation (+, -, *, /): \")\n",
    "\n",
    "    if operation in [\"+\", \"-\", \"*\", \"/\"]:\n",
    "        result = mathematicalOperation(num1, num2, operation)\n",
    "        print(f\"\\nResult: {result}\")\n",
    "    else:\n",
    "        print(\"Invalid operation. Please provide a valid operation.\")\n",
    "\n"
   ]
  },
  {
   "cell_type": "code",
   "execution_count": null,
   "id": "4ecb07a6",
   "metadata": {},
   "outputs": [],
   "source": [
    "if __name__ == \"__main__\":\n",
    "    calculator()"
   ]
  },
  {
   "cell_type": "markdown",
   "id": "307a0f04",
   "metadata": {},
   "source": [
    "## Getting Documentation"
   ]
  },
  {
   "cell_type": "code",
   "execution_count": null,
   "id": "88681776",
   "metadata": {},
   "outputs": [],
   "source": [
    "# Getting the docstring of the mathematicalOperation method\n",
    "docstring = mathematicalOperation.__doc__\n",
    "print(\"Documentation for mathematicalOperation Getting Documentationthod:\")\n",
    "print(\"-----------------------------------------------\")\n",
    "print(docstring)"
   ]
  },
  {
   "cell_type": "code",
   "execution_count": null,
   "id": "a4a9ffc3",
   "metadata": {},
   "outputs": [],
   "source": [
    "# Getting the docstring of the calculator method\n",
    "docstring = calculator.__doc__\n",
    "print(\"Documentation for calculator method:\")\n",
    "print(\"------------------------------------\")\n",
    "print(docstring)"
   ]
  },
  {
   "cell_type": "code",
   "execution_count": null,
   "id": "8061ef5d",
   "metadata": {},
   "outputs": [],
   "source": []
  }
 ],
 "metadata": {
  "kernelspec": {
   "display_name": "Python 3 (ipykernel)",
   "language": "python",
   "name": "python3"
  },
  "language_info": {
   "codemirror_mode": {
    "name": "ipython",
    "version": 3
   },
   "file_extension": ".py",
   "mimetype": "text/x-python",
   "name": "python",
   "nbconvert_exporter": "python",
   "pygments_lexer": "ipython3",
   "version": "3.9.13"
  }
 },
 "nbformat": 4,
 "nbformat_minor": 5
}
