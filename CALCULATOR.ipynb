{
 "cells": [
  {
   "cell_type": "code",
   "execution_count": 1,
   "id": "7ccb4be6",
   "metadata": {},
   "outputs": [],
   "source": [
    "def mathematicalOperation(num_1, num_2, operation):\n",
    "    if operation == '+':\n",
    "        result = num_1 + num_2\n",
    "    elif operation == '-':\n",
    "        result = num_1 - num_2\n",
    "    elif operation == '*':\n",
    "        result = num_1 * num_2\n",
    "    elif operation == '/':\n",
    "        try:\n",
    "            result = num_1 / num_2\n",
    "        except:\n",
    "            result = \"Cannot divide by zero.\"\n",
    "\n",
    "    return result"
   ]
  },
  {
   "cell_type": "code",
   "execution_count": 2,
   "id": "7e09ba98",
   "metadata": {},
   "outputs": [
    {
     "name": "stdout",
     "output_type": "stream",
     "text": [
      "Welcome to Simple Calculator\n",
      "Enter the first number: 1\n",
      "Enter the second number: 2\n",
      "Choose an operation (+, -, *, /): +\n",
      "\n",
      "Result: 3.0\n"
     ]
    }
   ],
   "source": [
    "def calculator():\n",
    "    print(\"Welcome to Simple Calculator\")\n",
    "\n",
    "    try:\n",
    "        num1 = float(input(\"Enter the first number: \"))\n",
    "        num2 = float(input(\"Enter the second number: \"))\n",
    "    except ValueError:\n",
    "        print(\"Invalid input. Please enter valid numbers.\")\n",
    "        return\n",
    "\n",
    "    operation = input(\"Choose an operation (+, -, *, /): \")\n",
    "\n",
    "    if operation in [\"+\", \"-\", \"*\", \"/\"]:\n",
    "\n",
    "        result = mathematicalOperation(num1, num2, operation)\n",
    "        print(f\"\\nResult: {result}\")\n",
    "      # print(\"Valid operation\")\n",
    "    else:\n",
    "        print(\"Invalid operation, Please provide a valid opeartion\")\n",
    "\n",
    "if __name__ == \"__main__\":\n",
    "    calculator()\n"
   ]
  },
  {
   "cell_type": "code",
   "execution_count": 3,
   "id": "99d596b6",
   "metadata": {},
   "outputs": [
    {
     "data": {
      "text/plain": [
       "'__main__'"
      ]
     },
     "execution_count": 3,
     "metadata": {},
     "output_type": "execute_result"
    }
   ],
   "source": [
    "__name__ "
   ]
  },
  {
   "cell_type": "code",
   "execution_count": null,
   "id": "f7c4f6f0",
   "metadata": {},
   "outputs": [],
   "source": []
  }
 ],
 "metadata": {
  "kernelspec": {
   "display_name": "Python 3 (ipykernel)",
   "language": "python",
   "name": "python3"
  },
  "language_info": {
   "codemirror_mode": {
    "name": "ipython",
    "version": 3
   },
   "file_extension": ".py",
   "mimetype": "text/x-python",
   "name": "python",
   "nbconvert_exporter": "python",
   "pygments_lexer": "ipython3",
   "version": "3.9.13"
  }
 },
 "nbformat": 4,
 "nbformat_minor": 5
}
