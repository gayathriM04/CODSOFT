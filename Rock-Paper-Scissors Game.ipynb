{
 "cells": [
  {
   "cell_type": "markdown",
   "id": "fc1237ea",
   "metadata": {},
   "source": [
    "## TASK 4 - Rock-Paper-Scissors Game\n",
    "\n",
    "User Input: Prompt the user to choose rock, paper, or scissors. Computer Selection: Generate a random choice (rock, paper, or scissors) for the computer.\n",
    "\n",
    "Game Logic: Determine the winner based on the user's choice and the computer's choice.Rock beats scissors, scissors beat paper, and paper beats rock.\n",
    "\n",
    "Display Result: Show the user's choice and the computer's choice.\n",
    "\n",
    "Display the result, whether the user wins, loses, or it's a tie.\n",
    "\n",
    "Score Tracking (Optional): Keep track of the user's and computer's scores formultiple rounds.\n",
    "\n",
    "Play Again: Ask the user if they want to play another round.\n",
    "\n",
    "User Interface: Design a user-friendly interface with clear instructions andfeedback."
   ]
  },
  {
   "cell_type": "code",
   "execution_count": null,
   "id": "da177471",
   "metadata": {},
   "outputs": [],
   "source": [
    "import random"
   ]
  },
  {
   "cell_type": "code",
   "execution_count": null,
   "id": "131b38c9",
   "metadata": {},
   "outputs": [],
   "source": [
    "def getUserChoice():\n",
    "    \"\"\"\n",
    "    Prompt the user to choose rock, paper, or scissors.\n",
    "\n",
    "    This function takes user input and ensures it is one of the valid choices:\n",
    "    'rock', 'paper', or 'scissors'. If the input is not valid, it prompts the\n",
    "    user again until a valid choice is made.\n",
    "\n",
    "    Returns:\n",
    "        str: The user's choice, which is one of 'rock', 'paper', or 'scissors'.\n",
    "    \"\"\"\n",
    "    userChoice = input(\"Choose rock, paper, or scissors: \").lower()\n",
    "    while userChoice not in ['rock', 'paper', 'scissors']:\n",
    "        print(\"Invalid choice. Please choose rock, paper, or scissors.\")\n",
    "        userChoice = input(\"Choose rock, paper, or scissors: \").lower()\n",
    "    return userChoice\n"
   ]
  },
  {
   "cell_type": "code",
   "execution_count": null,
   "id": "2b699f31",
   "metadata": {},
   "outputs": [],
   "source": [
    "def getComputerChoice():\n",
    "    \"\"\"\n",
    "    Get a random choice of 'rock', 'paper', or 'scissors' for the computer.\n",
    "\n",
    "    This function randomly selects one of the options 'rock', 'paper', or 'scissors'\n",
    "    as the computer's choice.\n",
    "\n",
    "    Returns:\n",
    "        str: The computer's randomly chosen option, which is one of 'rock', 'paper', or 'scissors'.\n",
    "    \"\"\"\n",
    "    return random.choice(['rock', 'paper', 'scissors'])\n"
   ]
  },
  {
   "cell_type": "code",
   "execution_count": null,
   "id": "36630dcf",
   "metadata": {},
   "outputs": [],
   "source": [
    "def determineWinner(userChoice, computerChoice):\n",
    "    \"\"\"\n",
    "    Determine the winner of a rock-paper-scissors game.\n",
    "\n",
    "    This function takes the user's choice and the computer's choice as input\n",
    "    and determines the winner based on the rules of rock-paper-scissors.\n",
    "    If the choices are the same, it's a tie. If the user wins, it returns \"You win!\".\n",
    "    If the computer wins, it returns \"You lose!\".\n",
    "\n",
    "    Args:\n",
    "        userChoice (str): The user's choice, which can be 'rock', 'paper', or 'scissors'.\n",
    "        computerChoice (str): The computer's choice, which can be 'rock', 'paper', or 'scissors'.\n",
    "\n",
    "    Returns:\n",
    "        str: The result of the game, which can be \"It's a tie!\", \"You win!\", or \"You lose!\".\n",
    "    \"\"\"\n",
    "    if userChoice == computerChoice:\n",
    "        return \"It's a tie!\"\n",
    "    elif (\n",
    "        (userChoice == 'rock' and computerChoice == 'scissors') or\n",
    "        (userChoice == 'scissors' and computerChoice == 'paper') or\n",
    "        (userChoice == 'paper' and computerChoice == 'rock')\n",
    "    ):\n",
    "        return \"You win!\"\n",
    "    else:\n",
    "        return \"You lose!\"\n"
   ]
  },
  {
   "cell_type": "code",
   "execution_count": null,
   "id": "eb92e5c7",
   "metadata": {},
   "outputs": [],
   "source": [
    "def main():\n",
    "    \"\"\"\n",
    "    Main function to play the Rock-Paper-Scissors game.\n",
    "\n",
    "    This function initializes the user's and computer's scores to zero.\n",
    "    It then prompts the user to make a choice and determines the computer's choice.\n",
    "    After determining the winner of each round, it updates the scores accordingly\n",
    "    and asks the user if they want to play again.\n",
    "    \"\"\"\n",
    "    userScore = 0\n",
    "    computerScore = 0\n",
    "\n",
    "    print(\"Welcome To Rock-Paper-Scissors Game\")\n",
    "\n",
    "    while True:\n",
    "        userChoice = getUserChoice()\n",
    "        computerChoice = getComputerChoice()\n",
    "\n",
    "        print(f\"\\nYour choice: {userChoice}\")\n",
    "        print(f\"Computer's choice: {computerChoice}\")\n",
    "\n",
    "        result = determineWinner(userChoice, computerChoice)\n",
    "        print(result)\n",
    "\n",
    "        if 'win' in result:\n",
    "            userScore += 1\n",
    "        elif 'lose' in result:\n",
    "            computerScore += 1\n",
    "\n",
    "        print(f\"\\nScore - You: {userScore}, Computer: {computerScore}\")\n",
    "\n",
    "        play_again = input(\"Do you want to play again? (yes/no): \").lower()\n",
    "        if play_again != 'yes':\n",
    "            print(\"\\nThank You....!\")\n",
    "            break\n",
    "\n"
   ]
  },
  {
   "cell_type": "code",
   "execution_count": null,
   "id": "d42e9001",
   "metadata": {},
   "outputs": [],
   "source": [
    "if __name__ == \"__main__\":\n",
    "    main()"
   ]
  },
  {
   "cell_type": "markdown",
   "id": "678d31e9",
   "metadata": {},
   "source": [
    "## Getting Documentation"
   ]
  },
  {
   "cell_type": "code",
   "execution_count": null,
   "id": "9acc1bab",
   "metadata": {},
   "outputs": [],
   "source": [
    "# Getting the docstring of the getUserChoice method\n",
    "docstring = getUserChoice.__doc__\n",
    "print(\"Documentation for getUserChoice method:\")\n",
    "print(\"------------------------------\")\n",
    "print(docstring)"
   ]
  },
  {
   "cell_type": "code",
   "execution_count": null,
   "id": "7ad4a8f3",
   "metadata": {},
   "outputs": [],
   "source": [
    "# Getting the docstring of the getComputerChoice method\n",
    "docstring = getComputerChoice.__doc__\n",
    "print(\"Documentation for getComputerChoice method:\")\n",
    "print(\"------------------------------\")\n",
    "print(docstring)"
   ]
  },
  {
   "cell_type": "code",
   "execution_count": null,
   "id": "7a6d3313",
   "metadata": {},
   "outputs": [],
   "source": [
    "# Getting the docstring of the determineWinner method\n",
    "docstring = determineWinner.__doc__\n",
    "print(\"Documentation for determineWinner method:\")\n",
    "print(\"------------------------------\")\n",
    "print(docstring)"
   ]
  },
  {
   "cell_type": "code",
   "execution_count": null,
   "id": "a97bd9e5",
   "metadata": {},
   "outputs": [],
   "source": [
    "# Getting the docstring of the main method\n",
    "docstring = main.__doc__\n",
    "print(\"Documentation for main method:\")\n",
    "print(\"------------------------------\")\n",
    "print(docstring)"
   ]
  },
  {
   "cell_type": "code",
   "execution_count": null,
   "id": "f39cc4d4",
   "metadata": {},
   "outputs": [],
   "source": []
  }
 ],
 "metadata": {
  "kernelspec": {
   "display_name": "Python 3 (ipykernel)",
   "language": "python",
   "name": "python3"
  },
  "language_info": {
   "codemirror_mode": {
    "name": "ipython",
    "version": 3
   },
   "file_extension": ".py",
   "mimetype": "text/x-python",
   "name": "python",
   "nbconvert_exporter": "python",
   "pygments_lexer": "ipython3",
   "version": "3.9.13"
  }
 },
 "nbformat": 4,
 "nbformat_minor": 5
}
